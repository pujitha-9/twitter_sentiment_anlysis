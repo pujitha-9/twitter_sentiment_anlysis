{
  "nbformat": 4,
  "nbformat_minor": 0,
  "metadata": {
    "colab": {
      "provenance": [],
      "authorship_tag": "ABX9TyPk1CV01W23DZUnz53CAk3q",
      "include_colab_link": true
    },
    "kernelspec": {
      "name": "python3",
      "display_name": "Python 3"
    },
    "language_info": {
      "name": "python"
    }
  },
  "cells": [
    {
      "cell_type": "markdown",
      "metadata": {
        "id": "view-in-github",
        "colab_type": "text"
      },
      "source": [
        "<a href=\"https://colab.research.google.com/github/pujitha-9/twitter_sentiment_anlysis/blob/main/tweets_analysis.ipynb\" target=\"_parent\"><img src=\"https://colab.research.google.com/assets/colab-badge.svg\" alt=\"Open In Colab\"/></a>"
      ]
    },
    {
      "cell_type": "code",
      "execution_count": 1,
      "metadata": {
        "colab": {
          "base_uri": "https://localhost:8080/"
        },
        "id": "Q2AXr3Qd4un5",
        "outputId": "b41657a7-e52e-4064-8271-96891bd4e722"
      },
      "outputs": [
        {
          "output_type": "stream",
          "name": "stdout",
          "text": [
            "Collecting vaderSentiment\n",
            "  Downloading vaderSentiment-3.3.2-py2.py3-none-any.whl.metadata (572 bytes)\n",
            "Requirement already satisfied: requests in /usr/local/lib/python3.12/dist-packages (from vaderSentiment) (2.32.4)\n",
            "Requirement already satisfied: charset_normalizer<4,>=2 in /usr/local/lib/python3.12/dist-packages (from requests->vaderSentiment) (3.4.4)\n",
            "Requirement already satisfied: idna<4,>=2.5 in /usr/local/lib/python3.12/dist-packages (from requests->vaderSentiment) (3.11)\n",
            "Requirement already satisfied: urllib3<3,>=1.21.1 in /usr/local/lib/python3.12/dist-packages (from requests->vaderSentiment) (2.5.0)\n",
            "Requirement already satisfied: certifi>=2017.4.17 in /usr/local/lib/python3.12/dist-packages (from requests->vaderSentiment) (2025.10.5)\n",
            "Downloading vaderSentiment-3.3.2-py2.py3-none-any.whl (125 kB)\n",
            "\u001b[?25l   \u001b[90m━━━━━━━━━━━━━━━━━━━━━━━━━━━━━━━━━━━━━━━━\u001b[0m \u001b[32m0.0/126.0 kB\u001b[0m \u001b[31m?\u001b[0m eta \u001b[36m-:--:--\u001b[0m\r\u001b[2K   \u001b[91m━━━━━━━━━━━━━━━━━━━━━━━━━━━━━━━━━━━━━━━\u001b[0m\u001b[90m╺\u001b[0m \u001b[32m122.9/126.0 kB\u001b[0m \u001b[31m7.4 MB/s\u001b[0m eta \u001b[36m0:00:01\u001b[0m\r\u001b[2K   \u001b[90m━━━━━━━━━━━━━━━━━━━━━━━━━━━━━━━━━━━━━━━━\u001b[0m \u001b[32m126.0/126.0 kB\u001b[0m \u001b[31m3.0 MB/s\u001b[0m eta \u001b[36m0:00:00\u001b[0m\n",
            "\u001b[?25hInstalling collected packages: vaderSentiment\n",
            "Successfully installed vaderSentiment-3.3.2\n"
          ]
        }
      ],
      "source": [
        "!pip install vaderSentiment\n"
      ]
    },
    {
      "cell_type": "code",
      "source": [
        "from vaderSentiment.vaderSentiment import SentimentIntensityAnalyzer\n",
        "import matplotlib.pyplot as plt\n",
        "import pandas as pd\n",
        "\n",
        "# Create one global analyzer object (reused later)\n",
        "sid = SentimentIntensityAnalyzer()\n"
      ],
      "metadata": {
        "id": "opFM1hk942dz"
      },
      "execution_count": 2,
      "outputs": []
    },
    {
      "cell_type": "code",
      "source": [
        "def sentiment_scores(sentence, verbose=True):\n",
        "    \"\"\"Analyze one sentence and print sentiment details.\"\"\"\n",
        "    sentiment_dict = sid.polarity_scores(sentence)\n",
        "    if verbose:\n",
        "        print(\"\\nTweet:\", sentence)\n",
        "        print(f\"Overall sentiment dictionary is : {sentiment_dict}\")\n",
        "        print(f\"sentence was rated as {sentiment_dict['neg']*100:.1f} % Negative\")\n",
        "        print(f\"sentence was rated as {sentiment_dict['neu']*100:.1f} % Neutral\")\n",
        "        print(f\"sentence was rated as {sentiment_dict['pos']*100:.1f} % Positive\")\n",
        "        print(f\"Compound Score: {sentiment_dict['compound']:.4f}\")\n",
        "\n",
        "        if sentiment_dict['compound'] >= 0.05:\n",
        "            print(\"Sentence Overall Rated As: Positive ✅\")\n",
        "        elif sentiment_dict['compound'] <= -0.05:\n",
        "            print(\"Sentence Overall Rated As: Negative ❌\")\n",
        "        else:\n",
        "            print(\"Sentence Overall Rated As: Neutral ⚪\")\n",
        "    return sentiment_dict\n",
        "\n",
        "\n",
        "def plot_sentiment(sentiment_dict, title=\"Sentiment Distribution\"):\n",
        "    \"\"\"Draw a bar chart of Positive/Neutral/Negative values.\"\"\"\n",
        "    labels = ['Positive', 'Neutral', 'Negative']\n",
        "    values = [sentiment_dict['pos'], sentiment_dict['neu'], sentiment_dict['neg']]\n",
        "\n",
        "    plt.bar(labels, values, color=['green', 'blue', 'red'])\n",
        "    plt.title(title)\n",
        "    plt.ylabel('Score (0–1)')\n",
        "    plt.show()\n",
        "\n",
        "\n",
        "def analyze_tweets_list(tweets, do_plot=False, save_csv_path=None):\n",
        "    \"\"\"Analyze a list of tweets and optionally save CSV.\"\"\"\n",
        "    rows = []\n",
        "    for t in tweets:\n",
        "        s = sid.polarity_scores(t)\n",
        "        rows.append({\n",
        "            'tweet': t,\n",
        "            'neg': s['neg'],\n",
        "            'neu': s['neu'],\n",
        "            'pos': s['pos'],\n",
        "            'compound': s['compound'],\n",
        "            'label': 'positive' if s['compound']>=0.05 else ('negative' if s['compound']<=-0.05 else 'neutral')\n",
        "        })\n",
        "    df = pd.DataFrame(rows)\n",
        "\n",
        "    if do_plot:\n",
        "        avg = df[['pos','neu','neg']].mean().to_dict()\n",
        "        plot_sentiment(avg, title=\"Average sentiment across tweets\")\n",
        "\n",
        "    if save_csv_path:\n",
        "        df.to_csv(save_csv_path, index=False)\n",
        "        print(f\"Saved results to {save_csv_path}\")\n",
        "\n",
        "    return df\n"
      ],
      "metadata": {
        "id": "UDELNQSO45io"
      },
      "execution_count": 3,
      "outputs": []
    },
    {
      "cell_type": "code",
      "source": [
        "sentences = [\n",
        "    \"This session is going to be interesting.\",\n",
        "    \"Study is going on as usual.\",\n",
        "    \"I am very sad today.\",\n",
        "    \"Success usually comes to those who are too busy to be looking for it.\"\n",
        "]\n",
        "\n",
        "for s in sentences:\n",
        "    sentiment_scores(s)\n"
      ],
      "metadata": {
        "colab": {
          "base_uri": "https://localhost:8080/"
        },
        "id": "DFrW426G4-jT",
        "outputId": "aee1c157-eca4-4a36-f443-6975f9d70c9d"
      },
      "execution_count": 4,
      "outputs": [
        {
          "output_type": "stream",
          "name": "stdout",
          "text": [
            "\n",
            "Tweet: This session is going to be interesting.\n",
            "Overall sentiment dictionary is : {'neg': 0.0, 'neu': 0.69, 'pos': 0.31, 'compound': 0.4019}\n",
            "sentence was rated as 0.0 % Negative\n",
            "sentence was rated as 69.0 % Neutral\n",
            "sentence was rated as 31.0 % Positive\n",
            "Compound Score: 0.4019\n",
            "Sentence Overall Rated As: Positive ✅\n",
            "\n",
            "Tweet: Study is going on as usual.\n",
            "Overall sentiment dictionary is : {'neg': 0.0, 'neu': 1.0, 'pos': 0.0, 'compound': 0.0}\n",
            "sentence was rated as 0.0 % Negative\n",
            "sentence was rated as 100.0 % Neutral\n",
            "sentence was rated as 0.0 % Positive\n",
            "Compound Score: 0.0000\n",
            "Sentence Overall Rated As: Neutral ⚪\n",
            "\n",
            "Tweet: I am very sad today.\n",
            "Overall sentiment dictionary is : {'neg': 0.459, 'neu': 0.541, 'pos': 0.0, 'compound': -0.5256}\n",
            "sentence was rated as 45.9 % Negative\n",
            "sentence was rated as 54.1 % Neutral\n",
            "sentence was rated as 0.0 % Positive\n",
            "Compound Score: -0.5256\n",
            "Sentence Overall Rated As: Negative ❌\n",
            "\n",
            "Tweet: Success usually comes to those who are too busy to be looking for it.\n",
            "Overall sentiment dictionary is : {'neg': 0.0, 'neu': 0.778, 'pos': 0.222, 'compound': 0.5719}\n",
            "sentence was rated as 0.0 % Negative\n",
            "sentence was rated as 77.8 % Neutral\n",
            "sentence was rated as 22.2 % Positive\n",
            "Compound Score: 0.5719\n",
            "Sentence Overall Rated As: Positive ✅\n"
          ]
        }
      ]
    },
    {
      "cell_type": "code",
      "source": [
        "# Visualize one example\n",
        "result = sentiment_scores(\"I am very sad today.\", verbose=False)\n",
        "plot_sentiment(result)\n"
      ],
      "metadata": {
        "colab": {
          "base_uri": "https://localhost:8080/",
          "height": 452
        },
        "id": "UaGvkjry5EVr",
        "outputId": "7e9f3a41-f673-4c89-c1ee-f1323018844f"
      },
      "execution_count": 5,
      "outputs": [
        {
          "output_type": "display_data",
          "data": {
            "text/plain": [
              "<Figure size 640x480 with 1 Axes>"
            ],
            "image/png": "[encoded data removed]"
          },
          "metadata": {}
        }
      ]
    },
    {
      "cell_type": "code",
      "source": [
        "df = analyze_tweets_list(sentences, do_plot=True, save_csv_path=\"twitter_sentiments.csv\")\n",
        "df.head()\n"
      ],
      "metadata": {
        "colab": {
          "base_uri": "https://localhost:8080/",
          "height": 627
        },
        "id": "L1O7ffU75NQf",
        "outputId": "a7dea66c-25d9-434a-856b-0cf43f1f6b5c"
      },
      "execution_count": 6,
      "outputs": [
        {
          "output_type": "display_data",
          "data": {
            "text/plain": [
              "<Figure size 640x480 with 1 Axes>"
            ],
            "image/png": "[encoded data removed]"
          },
          "metadata": {}
        },
        {
          "output_type": "stream",
          "name": "stdout",
          "text": [
            "Saved results to twitter_sentiments.csv\n"
          ]
        },
        {
          "output_type": "execute_result",
          "data": {
            "text/plain": [
              "                                               tweet    neg    neu    pos  \\\n",
              "0           This session is going to be interesting.  0.000  0.690  0.310   \n",
              "1                        Study is going on as usual.  0.000  1.000  0.000   \n",
              "2                               I am very sad today.  0.459  0.541  0.000   \n",
              "3  Success usually comes to those who are too bus...  0.000  0.778  0.222   \n",
              "\n",
              "   compound     label  \n",
              "0    0.4019  positive  \n",
              "1    0.0000   neutral  \n",
              "2   -0.5256  negative  \n",
              "3    0.5719  positive  "
            ],
            "text/html": [
              "\n",
              "  <div id=\"df-8cc4c0b4-d700-4f6b-87e9-c40112ef8ec2\" class=\"colab-df-container\">\n",
              "    <div>\n",
              "<style scoped>\n",
              "    .dataframe tbody tr th:only-of-type {\n",
              "        vertical-align: middle;\n",
              "    }\n",
              "\n",
              "    .dataframe tbody tr th {\n",
              "        vertical-align: top;\n",
              "    }\n",
              "\n",
              "    .dataframe thead th {\n",
              "        text-align: right;\n",
              "    }\n",
              "</style>\n",
              "<table border=\"1\" class=\"dataframe\">\n",
              "  <thead>\n",
              "    <tr style=\"text-align: right;\">\n",
              "      <th></th>\n",
              "      <th>tweet</th>\n",
              "      <th>neg</th>\n",
              "      <th>neu</th>\n",
              "      <th>pos</th>\n",
              "      <th>compound</th>\n",
              "      <th>label</th>\n",
              "    </tr>\n",
              "  </thead>\n",
              "  <tbody>\n",
              "    <tr>\n",
              "      <th>0</th>\n",
              "      <td>This session is going to be interesting.</td>\n",
              "      <td>0.000</td>\n",
              "      <td>0.690</td>\n",
              "      <td>0.310</td>\n",
              "      <td>0.4019</td>\n",
              "      <td>positive</td>\n",
              "    </tr>\n",
              "    <tr>\n",
              "      <th>1</th>\n",
              "      <td>Study is going on as usual.</td>\n",
              "      <td>0.000</td>\n",
              "      <td>1.000</td>\n",
              "      <td>0.000</td>\n",
              "      <td>0.0000</td>\n",
              "      <td>neutral</td>\n",
              "    </tr>\n",
              "    <tr>\n",
              "      <th>2</th>\n",
              "      <td>I am very sad today.</td>\n",
              "      <td>0.459</td>\n",
              "      <td>0.541</td>\n",
              "      <td>0.000</td>\n",
              "      <td>-0.5256</td>\n",
              "      <td>negative</td>\n",
              "    </tr>\n",
              "    <tr>\n",
              "      <th>3</th>\n",
              "      <td>Success usually comes to those who are too bus...</td>\n",
              "      <td>0.000</td>\n",
              "      <td>0.778</td>\n",
              "      <td>0.222</td>\n",
              "      <td>0.5719</td>\n",
              "      <td>positive</td>\n",
              "    </tr>\n",
              "  </tbody>\n",
              "</table>\n",
              "</div>\n",
              "    <div class=\"colab-df-buttons\">\n",
              "\n",
              "  <div class=\"colab-df-container\">\n",
              "    <button class=\"colab-df-convert\" onclick=\"convertToInteractive('df-8cc4c0b4-d700-4f6b-87e9-c40112ef8ec2')\"\n",
              "            title=\"Convert this dataframe to an interactive table.\"\n",
              "            style=\"display:none;\">\n",
              "\n",
              "  <svg xmlns=\"http://www.w3.org/2000/svg\" height=\"24px\" viewBox=\"0 -960 960 960\">\n",
              "    <path d=\"M120-120v-720h720v720H120Zm60-500h600v-160H180v160Zm220 220h160v-160H400v160Zm0 220h160v-160H400v160ZM180-400h160v-160H180v160Zm440 0h160v-160H620v160ZM180-180h160v-160H180v160Zm440 0h160v-160H620v160Z\"/>\n",
              "  </svg>\n",
              "    </button>\n",
              "\n",
              "  <style>\n",
              "    .colab-df-container {\n",
              "      display:flex;\n",
              "      gap: 12px;\n",
              "    }\n",
              "\n",
              "    .colab-df-convert {\n",
              "      background-color: #E8F0FE;\n",
              "      border: none;\n",
              "      border-radius: 50%;\n",
              "      cursor: pointer;\n",
              "      display: none;\n",
              "      fill: #1967D2;\n",
              "      height: 32px;\n",
              "      padding: 0 0 0 0;\n",
              "      width: 32px;\n",
              "    }\n",
              "\n",
              "    .colab-df-convert:hover {\n",
              "      background-color: #E2EBFA;\n",
              "      box-shadow: 0px 1px 2px rgba(60, 64, 67, 0.3), 0px 1px 3px 1px rgba(60, 64, 67, 0.15);\n",
              "      fill: #174EA6;\n",
              "    }\n",
              "\n",
              "    .colab-df-buttons div {\n",
              "      margin-bottom: 4px;\n",
              "    }\n",
              "\n",
              "    [theme=dark] .colab-df-convert {\n",
              "      background-color: #3B4455;\n",
              "      fill: #D2E3FC;\n",
              "    }\n",
              "\n",
              "    [theme=dark] .colab-df-convert:hover {\n",
              "      background-color: #434B5C;\n",
              "      box-shadow: 0px 1px 3px 1px rgba(0, 0, 0, 0.15);\n",
              "      filter: drop-shadow(0px 1px 2px rgba(0, 0, 0, 0.3));\n",
              "      fill: #FFFFFF;\n",
              "    }\n",
              "  </style>\n",
              "\n",
              "    <script>\n",
              "      const buttonEl =\n",
              "        document.querySelector('#df-8cc4c0b4-d700-4f6b-87e9-c40112ef8ec2 button.colab-df-convert');\n",
              "      buttonEl.style.display =\n",
              "        google.colab.kernel.accessAllowed ? 'block' : 'none';\n",
              "\n",
              "      async function convertToInteractive(key) {\n",
              "        const element = document.querySelector('#df-8cc4c0b4-d700-4f6b-87e9-c40112ef8ec2');\n",
              "        const dataTable =\n",
              "          await google.colab.kernel.invokeFunction('convertToInteractive',\n",
              "                                                    [key], {});\n",
              "        if (!dataTable) return;\n",
              "\n",
              "        const docLinkHtml = 'Like what you see? Visit the ' +\n",
              "          '<a target=\"_blank\" href=https://colab.research.google.com/notebooks/data_table.ipynb>data table notebook</a>'\n",
              "          + ' to learn more about interactive tables.';\n",
              "        element.innerHTML = '';\n",
              "        dataTable['output_type'] = 'display_data';\n",
              "        await google.colab.output.renderOutput(dataTable, element);\n",
              "        const docLink = document.createElement('div');\n",
              "        docLink.innerHTML = docLinkHtml;\n",
              "        element.appendChild(docLink);\n",
              "      }\n",
              "    </script>\n",
              "  </div>\n",
              "\n",
              "\n",
              "    <div id=\"df-5e3345d1-bf82-43f2-bc2c-62796b735458\">\n",
              "      <button class=\"colab-df-quickchart\" onclick=\"quickchart('df-5e3345d1-bf82-43f2-bc2c-62796b735458')\"\n",
              "                title=\"Suggest charts\"\n",
              "                style=\"display:none;\">\n",
              "\n",
              "<svg xmlns=\"http://www.w3.org/2000/svg\" height=\"24px\"viewBox=\"0 0 24 24\"\n",
              "     width=\"24px\">\n",
              "    <g>\n",
              "        <path d=\"M19 3H5c-1.1 0-2 .9-2 2v14c0 1.1.9 2 2 2h14c1.1 0 2-.9 2-2V5c0-1.1-.9-2-2-2zM9 17H7v-7h2v7zm4 0h-2V7h2v10zm4 0h-2v-4h2v4z\"/>\n",
              "    </g>\n",
              "</svg>\n",
              "      </button>\n",
              "\n",
              "<style>\n",
              "  .colab-df-quickchart {\n",
              "      --bg-color: #E8F0FE;\n",
              "      --fill-color: #1967D2;\n",
              "      --hover-bg-color: #E2EBFA;\n",
              "      --hover-fill-color: #174EA6;\n",
              "      --disabled-fill-color: #AAA;\n",
              "      --disabled-bg-color: #DDD;\n",
              "  }\n",
              "\n",
              "  [theme=dark] .colab-df-quickchart {\n",
              "      --bg-color: #3B4455;\n",
              "      --fill-color: #D2E3FC;\n",
              "      --hover-bg-color: #434B5C;\n",
              "      --hover-fill-color: #FFFFFF;\n",
              "      --disabled-bg-color: #3B4455;\n",
              "      --disabled-fill-color: #666;\n",
              "  }\n",
              "\n",
              "  .colab-df-quickchart {\n",
              "    background-color: var(--bg-color);\n",
              "    border: none;\n",
              "    border-radius: 50%;\n",
              "    cursor: pointer;\n",
              "    display: none;\n",
              "    fill: var(--fill-color);\n",
              "    height: 32px;\n",
              "    padding: 0;\n",
              "    width: 32px;\n",
              "  }\n",
              "\n",
              "  .colab-df-quickchart:hover {\n",
              "    background-color: var(--hover-bg-color);\n",
              "    box-shadow: 0 1px 2px rgba(60, 64, 67, 0.3), 0 1px 3px 1px rgba(60, 64, 67, 0.15);\n",
              "    fill: var(--button-hover-fill-color);\n",
              "  }\n",
              "\n",
              "  .colab-df-quickchart-complete:disabled,\n",
              "  .colab-df-quickchart-complete:disabled:hover {\n",
              "    background-color: var(--disabled-bg-color);\n",
              "    fill: var(--disabled-fill-color);\n",
              "    box-shadow: none;\n",
              "  }\n",
              "\n",
              "  .colab-df-spinner {\n",
              "    border: 2px solid var(--fill-color);\n",
              "    border-color: transparent;\n",
              "    border-bottom-color: var(--fill-color);\n",
              "    animation:\n",
              "      spin 1s steps(1) infinite;\n",
              "  }\n",
              "\n",
              "  @keyframes spin {\n",
              "    0% {\n",
              "      border-color: transparent;\n",
              "      border-bottom-color: var(--fill-color);\n",
              "      border-left-color: var(--fill-color);\n",
              "    }\n",
              "    20% {\n",
              "      border-color: transparent;\n",
              "      border-left-color: var(--fill-color);\n",
              "      border-top-color: var(--fill-color);\n",
              "    }\n",
              "    30% {\n",
              "      border-color: transparent;\n",
              "      border-left-color: var(--fill-color);\n",
              "      border-top-color: var(--fill-color);\n",
              "      border-right-color: var(--fill-color);\n",
              "    }\n",
              "    40% {\n",
              "      border-color: transparent;\n",
              "      border-right-color: var(--fill-color);\n",
              "      border-top-color: var(--fill-color);\n",
              "    }\n",
              "    60% {\n",
              "      border-color: transparent;\n",
              "      border-right-color: var(--fill-color);\n",
              "    }\n",
              "    80% {\n",
              "      border-color: transparent;\n",
              "      border-right-color: var(--fill-color);\n",
              "      border-bottom-color: var(--fill-color);\n",
              "    }\n",
              "    90% {\n",
              "      border-color: transparent;\n",
              "      border-bottom-color: var(--fill-color);\n",
              "    }\n",
              "  }\n",
              "</style>\n",
              "\n",
              "      <script>\n",
              "        async function quickchart(key) {\n",
              "          const quickchartButtonEl =\n",
              "            document.querySelector('#' + key + ' button');\n",
              "          quickchartButtonEl.disabled = true;  // To prevent multiple clicks.\n",
              "          quickchartButtonEl.classList.add('colab-df-spinner');\n",
              "          try {\n",
              "            const charts = await google.colab.kernel.invokeFunction(\n",
              "                'suggestCharts', [key], {});\n",
              "          } catch (error) {\n",
              "            console.error('Error during call to suggestCharts:', error);\n",
              "          }\n",
              "          quickchartButtonEl.classList.remove('colab-df-spinner');\n",
              "          quickchartButtonEl.classList.add('colab-df-quickchart-complete');\n",
              "        }\n",
              "        (() => {\n",
              "          let quickchartButtonEl =\n",
              "            document.querySelector('#df-5e3345d1-bf82-43f2-bc2c-62796b735458 button');\n",
              "          quickchartButtonEl.style.display =\n",
              "            google.colab.kernel.accessAllowed ? 'block' : 'none';\n",
              "        })();\n",
              "      </script>\n",
              "    </div>\n",
              "\n",
              "    </div>\n",
              "  </div>\n"
            ],
            "application/vnd.google.colaboratory.intrinsic+json": {
              "type": "dataframe",
              "variable_name": "df",
              "summary": "{\n  \"name\": \"df\",\n  \"rows\": 4,\n  \"fields\": [\n    {\n      \"column\": \"tweet\",\n      \"properties\": {\n        \"dtype\": \"string\",\n        \"num_unique_values\": 4,\n        \"samples\": [\n          \"Study is going on as usual.\",\n          \"Success usually comes to those who are too busy to be looking for it.\",\n          \"This session is going to be interesting.\"\n        ],\n        \"semantic_type\": \"\",\n        \"description\": \"\"\n      }\n    },\n    {\n      \"column\": \"neg\",\n      \"properties\": {\n        \"dtype\": \"number\",\n        \"std\": 0.2295,\n        \"min\": 0.0,\n        \"max\": 0.459,\n        \"num_unique_values\": 2,\n        \"samples\": [\n          0.459,\n          0.0\n        ],\n        \"semantic_type\": \"\",\n        \"description\": \"\"\n      }\n    },\n    {\n      \"column\": \"neu\",\n      \"properties\": {\n        \"dtype\": \"number\",\n        \"std\": 0.19195897999312247,\n        \"min\": 0.541,\n        \"max\": 1.0,\n        \"num_unique_values\": 4,\n        \"samples\": [\n          1.0,\n          0.778\n        ],\n        \"semantic_type\": \"\",\n        \"description\": \"\"\n      }\n    },\n    {\n      \"column\": \"pos\",\n      \"properties\": {\n        \"dtype\": \"number\",\n        \"std\": 0.157721273137139,\n        \"min\": 0.0,\n        \"max\": 0.31,\n        \"num_unique_values\": 3,\n        \"samples\": [\n          0.31,\n          0.0\n        ],\n        \"semantic_type\": \"\",\n        \"description\": \"\"\n      }\n    },\n    {\n      \"column\": \"compound\",\n      \"properties\": {\n        \"dtype\": \"number\",\n        \"std\": 0.48806685675905775,\n        \"min\": -0.5256,\n        \"max\": 0.5719,\n        \"num_unique_values\": 4,\n        \"samples\": [\n          0.0,\n          0.5719\n        ],\n        \"semantic_type\": \"\",\n        \"description\": \"\"\n      }\n    },\n    {\n      \"column\": \"label\",\n      \"properties\": {\n        \"dtype\": \"string\",\n        \"num_unique_values\": 3,\n        \"samples\": [\n          \"positive\",\n          \"neutral\"\n        ],\n        \"semantic_type\": \"\",\n        \"description\": \"\"\n      }\n    }\n  ]\n}"
            }
          },
          "metadata": {},
          "execution_count": 6
        }
      ]
    },
    {
      "cell_type": "code",
      "source": [
        "# 🔹 Interactive input for user text\n",
        "text = input(\"Enter text (e.g. a tweet or any sentence): \")\n",
        "\n",
        "# 🔹 Analyze and display sentiment\n",
        "sentiment = sentiment_scores(text)\n",
        "\n",
        "# 🔹 Optional: visualize with bar chart\n",
        "plot_sentiment(sentiment)\n"
      ],
      "metadata": {
        "colab": {
          "base_uri": "https://localhost:8080/",
          "height": 608
        },
        "id": "HtbXkAI45ROc",
        "outputId": "bdaf2294-0622-4753-ad65-842c428cdee2"
      },
      "execution_count": 9,
      "outputs": [
        {
          "output_type": "stream",
          "name": "stdout",
          "text": [
            "Enter text (e.g. a tweet or any sentence): I love learning new things!\n",
            "\n",
            "Tweet: I love learning new things!\n",
            "Overall sentiment dictionary is : {'neg': 0.0, 'neu': 0.471, 'pos': 0.529, 'compound': 0.6696}\n",
            "sentence was rated as 0.0 % Negative\n",
            "sentence was rated as 47.1 % Neutral\n",
            "sentence was rated as 52.9 % Positive\n",
            "Compound Score: 0.6696\n",
            "Sentence Overall Rated As: Positive ✅\n"
          ]
        },
        {
          "output_type": "display_data",
          "data": {
            "text/plain": [
              "<Figure size 640x480 with 1 Axes>"
            ],
            "image/png": "[encoded data removed]"
          },
          "metadata": {}
        }
      ]
    }
  ]
}